{
 "cells": [
  {
   "cell_type": "markdown",
   "metadata": {
    "deletable": true,
    "editable": true
   },
   "source": [
    "# 1 | Eigenvalue Problem"
   ]
  },
  {
   "cell_type": "code",
   "execution_count": null,
   "metadata": {
    "deletable": true,
    "editable": true
   },
   "outputs": [],
   "source": [
    "import numpy as np\n",
    "from scipy.io import mminfo,mmread\n",
    "import matplotlib.pyplot as plt\n",
    "%matplotlib inline\n",
    "\n",
    "from numpy.linalg import inv, eig\n",
    "from numpy import sqrt, dot, sum, abs, diag, array"
   ]
  },
  {
   "cell_type": "markdown",
   "metadata": {
    "deletable": true,
    "editable": true
   },
   "source": [
    "## Eigenvalue Problems\n",
    "\n",
    "In order to test different algorithms to compute eigenvalues we use a 4x4 matrix with eigenvalues 1, 2, 3, and 4.\n",
    "It is constructed as \n",
    "$$ A = S D S^{-1} $$\n",
    "where $D$ is a diagonal matrix containing the EVs."
   ]
  },
  {
   "cell_type": "code",
   "execution_count": null,
   "metadata": {
    "deletable": true,
    "editable": true
   },
   "outputs": [],
   "source": [
    "np.random.seed(1)\n",
    "D = np.array([1, 2, 3 ,4])\n",
    "S = (np.random.rand(len(D),len(D)) - 0.5)*2 # compute a random matrix with entries between -1 and 1\n",
    "A = np.dot(np.dot(S,np.diag(D)),inv(S)) # S*D*S^-1, computes a unitary similar matrix of D having the same EVs"
   ]
  },
  {
   "cell_type": "code",
   "execution_count": null,
   "metadata": {
    "deletable": true,
    "editable": true
   },
   "outputs": [],
   "source": [
    "#test if correct?\n",
    "w,v=np.linalg.eig(A)\n",
    "w,v,A"
   ]
  },
  {
   "cell_type": "markdown",
   "metadata": {
    "deletable": true,
    "editable": true
   },
   "source": [
    "### Vector Iteration\n",
    "\n",
    "* also known as power method, power iteration, or von Mises iteration\n",
    "* yields largest (in magnitude) eigenvalue and corresponding eigenvector\n",
    "* converges baldy if $\\lambda_n/\\lambda_{n-1} \\approx 1$, i.e. the second largest EV is almost the same size as the largest\n",
    "\n",
    "Use the recursion\n",
    "$$ b_{k+1} = \\frac{A b_k}{\\lVert A b_k \\rVert}$$\n",
    "\n",
    "where $b_k$ converges to the eigenvector and ${\\lVert A b_k \\rVert}$ to the eigenvalue."
   ]
  },
  {
   "cell_type": "code",
   "execution_count": null,
   "metadata": {
    "deletable": true,
    "editable": true
   },
   "outputs": [],
   "source": [
    "x = np.ones(len(D)) # one can start with any vector\n",
    "\n",
    "for i in range(10) :\n",
    "    # compute numerator\n",
    "    num=np.dot(A,x)\n",
    "    # compute denominator\n",
    "    den=np.linalg.norm(np.dot(A,x))\n",
    "    # compute recursion\n",
    "    x=num/den\n",
    "    # plot the intermediate results\n",
    "    plt.scatter(i, den)\n",
    "    \n",
    "    pass"
   ]
  },
  {
   "cell_type": "code",
   "execution_count": null,
   "metadata": {
    "deletable": true,
    "editable": true
   },
   "outputs": [],
   "source": [
    "print(\"Largest EWert found:\")\n",
    "print(den) #largest EW\n",
    "print(\"corresponding EVector:\")\n",
    "print(x) #corresponding EV\n",
    "\n",
    "v[:,1] #test für EV (for i=20 iterations the EV will be much better!)\n"
   ]
  },
  {
   "cell_type": "markdown",
   "metadata": {
    "deletable": true,
    "editable": true
   },
   "source": [
    "### Inverse Vector Iteration\n",
    "\n",
    "If $\\lambda$ is an eigenvalue of $A$ then $\\lambda-\\sigma$ is an eigenvalue of $A-\\sigma I$.\n",
    "The eigenvalue of the inverse $(A-\\sigma I)^{-1} = B$ will be $\\mu = \\frac{1}{\\lambda-\\sigma}$.\n",
    "Thus, if $\\lambda\\approx\\sigma$, vector iteration with B will yield the smallest (in magnitude) EV of A.\n",
    "\n",
    "The iteration rule is then\n",
    "$$ b_{k+1} = (A - \\sigma I)^{-1} b_k \\text{ or } (A - \\sigma I) b_{k+1} = b_k $$\n",
    "\n",
    "The series converges to the same eigenvectors, the eigenvalues $\\mu$ are related to the original ones $\\lambda$ via\n",
    "$$ \\lambda = \\sigma + \\frac{1}{\\mu}$$\n",
    "\n",
    "* $\\sigma$ is called the shift point\n",
    "* a linear system has to be solved in each step\n",
    "* for a constant shift point the solution of the linear system corresponds to a matrix multiplication\n",
    "\n"
   ]
  },
  {
   "cell_type": "code",
   "execution_count": null,
   "metadata": {
    "deletable": true,
    "editable": true
   },
   "outputs": [],
   "source": [
    "# choose shift point\n",
    "sig = 2.2\n",
    "B = inv(A-sig*np.diag(np.ones_like(D)))\n",
    "\n",
    "#y = np.dot(Binv,np.ones_like(D)) # start value\n",
    "x = np.ones(len(D))\n",
    "for i in range(10) :\n",
    "    # compute update\n",
    "    y=np.dot(B,x)\n",
    "    y_norm=np.linalg.norm(y)\n",
    "    x=y/y_norm\n",
    "    lamb=sig+1/y_norm\n",
    "    plt.scatter(i, lamb)\n",
    "    pass\n",
    "\n",
    "# check the sign of y_norm =: /mi of B\n",
    "z = np.dot(B,x)\n",
    "sign = y[0]/z[0]\n",
    "print('sign of EW /mu of B is approx.', sign)\n",
    "lamb = sig + sign*1/y_norm\n",
    "print('Corrected EW: ',lamb)"
   ]
  },
  {
   "cell_type": "code",
   "execution_count": null,
   "metadata": {
    "deletable": true,
    "editable": true
   },
   "outputs": [],
   "source": [
    "print(\"Smallest EWert found:\")\n",
    "print(lamb) #largest EW\n",
    "print(\"corresponding EVector:\")\n",
    "print(x) #corresponding EV\n",
    "\n",
    "v[:,0] #test für EV"
   ]
  },
  {
   "cell_type": "code",
   "execution_count": null,
   "metadata": {
    "deletable": true,
    "editable": true
   },
   "outputs": [],
   "source": []
  },
  {
   "cell_type": "markdown",
   "metadata": {
    "deletable": true,
    "editable": true
   },
   "source": [
    "### Rayleigh Quotient Iteration\n"
   ]
  },
  {
   "cell_type": "code",
   "execution_count": null,
   "metadata": {
    "deletable": true,
    "editable": true
   },
   "outputs": [],
   "source": [
    "# choose shift point\n",
    "sig = 1.6\n",
    "B = inv(A-sig*np.diag(np.ones_like(D)))\n",
    "\n",
    "#y = np.dot(Binv,np.ones_like(D)) # start value\n",
    "x = np.ones(len(D))\n",
    "for i in range(10) :\n",
    "    \n",
    "    # compute update\n",
    "    y=np.dot(B,x)\n",
    "    y_norm=np.linalg.norm(y)\n",
    "    x=y/y_norm\n",
    "    lamb=sig+1/y_norm\n",
    "    plt.scatter(i, lamb)\n",
    "    \n",
    "    # update shift point\n",
    "    num=np.dot(np.dot(np.transpose(x),A),x)\n",
    "    den=np.dot(np.transpose(x),x)\n",
    "    sig=num/den\n",
    "    try:\n",
    "        B = inv(A-sig*np.diag(np.ones_like(D)))\n",
    "    except np.linalg.linalg.LinAlgError as err:\n",
    "            print(\"Singular Matrix -> EV found\")\n",
    "    \n",
    "    pass"
   ]
  },
  {
   "cell_type": "code",
   "execution_count": null,
   "metadata": {
    "deletable": true,
    "editable": true
   },
   "outputs": [],
   "source": [
    "print(\"EWert found:\")\n",
    "print(lamb) # EW\n",
    "print(\"corresponding EVector:\")\n",
    "print(x) #corresponding EV\n",
    "\n",
    "w,v[:,:] #test für EV"
   ]
  },
  {
   "cell_type": "markdown",
   "metadata": {
    "deletable": true,
    "editable": true
   },
   "source": [
    "### Higher Eigenvalues\n",
    "\n",
    "We do vector iteration with vectors orthogonal to the already computed eigenvalue.\n",
    "It is necessary to enforce the orthogonality during iteration.\n"
   ]
  },
  {
   "cell_type": "code",
   "execution_count": null,
   "metadata": {
    "deletable": true,
    "editable": true
   },
   "outputs": [],
   "source": [
    "W,V = eig(A)\n",
    "Is = np.argsort(W)\n",
    "W[Is],V[:,Is]\n",
    "\n",
    "def proj(v,u) :\n",
    "    from numpy import inner\n",
    "    # project v on u\n",
    "    return inner(u,v)/inner(u,u)*u\n",
    "\n",
    "# choose shift point\n",
    "sig = 0\n",
    "B = inv(A-sig*np.diag(np.ones_like(D)))\n",
    "\n",
    "# start with vector orthogonal to first EV\n",
    "v1 = V[:,Is[0]] # first EV \n",
    "v2 = V[:,Is[1]] # second EV \n",
    "b1 = np.ones_like(D)-proj(v1,np.ones_like(D))-proj(v2,np.ones_like(D))\n",
    "b = b1\n",
    "for i in range(10) :\n",
    "    # re - orthogonalize\n",
    "    b = b - proj(b,v1) - proj(b,v2)\n",
    "    # inverse vector iteration\n",
    "    y=np.dot(B,b)\n",
    "    y_norm=np.linalg.norm(y)\n",
    "    b=y/y_norm\n",
    "    \n",
    "    lamb=sig+1/y_norm\n",
    "    plt.scatter(i, lamb)\n",
    "   \n",
    "    pass"
   ]
  },
  {
   "cell_type": "code",
   "execution_count": null,
   "metadata": {
    "deletable": true,
    "editable": true
   },
   "outputs": [],
   "source": [
    "print(\"3rd EWert found:\")\n",
    "print(lamb) # EW\n",
    "print(\"corresponding EVector:\")\n",
    "print(b) #corresponding EV\n",
    "\n",
    "W[Is[2]],V[:,Is[2]] #test für EV\n",
    "\n",
    "### IMPORTANT: Test for EV FAILED!?!?!\n",
    "b/V[:,Is[2]]"
   ]
  },
  {
   "cell_type": "markdown",
   "metadata": {
    "deletable": true,
    "editable": true
   },
   "source": [
    "## QR-Algorithm"
   ]
  },
  {
   "cell_type": "code",
   "execution_count": null,
   "metadata": {
    "deletable": true,
    "editable": true
   },
   "outputs": [],
   "source": [
    "np.random.seed(1)\n",
    "D = np.array([1, 2, 3 ,4])\n",
    "S = (np.random.rand(len(D),len(D)) - 0.5)*2 # compute a random matrix with entries between -1 and 1\n",
    "Aalt = np.dot(np.dot(S,np.diag(D)),inv(S)) # S*D*S^-1, computes a unitary similar matrix of D having the same EVs\n",
    "\n",
    "wh=20\n",
    "Aalt\n",
    "for i in range(wh) :\n",
    "    Q,R = np.linalg.qr(Aalt)\n",
    "    Aalt = np.dot(R,Q)\n",
    "    \n",
    "    plt.subplot(2, 2, 1)\n",
    "    plt.plot(i, Aalt[0,0], 'o')\n",
    "    plt.title('1.EV')\n",
    "\n",
    "    plt.subplot(2, 2, 2)\n",
    "    plt.plot(i, Aalt[1,1], 'o')\n",
    "    plt.title('2.EV')\n",
    "    \n",
    "    plt.subplot(2, 2, 3)\n",
    "    plt.plot(i, Aalt[2,2], 'o')\n",
    "    plt.title('3.EV')\n",
    "    \n",
    "    plt.subplot(2, 2, 4)\n",
    "    plt.plot(i, Aalt[2,2], 'o')\n",
    "    plt.title('4.EV')\n",
    "    \n",
    "    pass\n",
    "plt.show()\n",
    "\n"
   ]
  },
  {
   "cell_type": "markdown",
   "metadata": {
    "deletable": true,
    "editable": true
   },
   "source": [
    "## subspace-iteration"
   ]
  },
  {
   "cell_type": "code",
   "execution_count": null,
   "metadata": {
    "deletable": true,
    "editable": true
   },
   "outputs": [],
   "source": [
    "from numpy import matlib as ml\n",
    "np.random.seed(1)\n",
    "D = np.array([1, 2, 3, 4, 7, -10, 5, -0.5])\n",
    "S = (np.random.rand(len(D),len(D)) - 0.5)*2 # compute a random matrix with entries between -1 and 1\n",
    "Aalt = np.dot(np.dot(S,np.diag(D)),inv(S)) # S*D*S^-1, computes a unitary similar matrix of D having the same EVs\n",
    "#print(Aalt)\n",
    "\n",
    "# number of wanted eigenvalues\n",
    "p=4\n",
    "\n",
    "# initial ON basis\n",
    "Xi = ml.eye(len(D),p)\n",
    "# use of another initial basis can help convergence\n",
    "#print(np.linalg.det(S))\n",
    "#Xi = np.dot(S,Xi)\n",
    "print(Xi)\n",
    "\n",
    "# smaller EWs converge slower (it depends also on their mutual ratios..)\n",
    "wh=30\n",
    "for i in range(wh) :\n",
    "    Zi = np.dot(Aalt, Xi)\n",
    "    Xi,Ri = np.linalg.qr(Zi)\n",
    "    \n",
    "    plt.subplot(2, 2, 1)\n",
    "    plt.plot(i, Ri[0,0], 'o')\n",
    "    plt.title('1.EV')\n",
    "\n",
    "    plt.subplot(2, 2, 2)\n",
    "    plt.plot(i, Ri[1,1], 'o')\n",
    "    plt.title('2.EV')\n",
    "    \n",
    "    plt.subplot(2, 2, 3)\n",
    "    plt.plot(i, Ri[2,2], 'o')\n",
    "    plt.title('3.EV')\n",
    "    \n",
    "    plt.subplot(2, 2, 4)\n",
    "    plt.plot(i, Ri[3,3], 'o')\n",
    "    plt.title('4.EV')\n",
    "    \n",
    "    pass\n",
    "plt.show()\n",
    "\n",
    "# triangle matrix with approximative EWs on diagonal\n",
    "print(Ri)\n",
    "\n",
    "# approximation of EVs \n",
    "#print(Xi)\n",
    "# comparison with eig-EVs\n",
    "#w,v=np.linalg.eig(Aalt)\n",
    "#V=v[:,0:p]\n",
    "#print(V)"
   ]
  },
  {
   "cell_type": "code",
   "execution_count": null,
   "metadata": {},
   "outputs": [],
   "source": [
    "# iterative version\n",
    "iter_max = 200;\n",
    "eps = 1e-5;\n",
    "Xi = np.dot(S,Xi);\n",
    "lambd = ml.ones(p);\n",
    "i = 0\n",
    "while True:\n",
    "    Zi = np.dot(Aalt, Xi)\n",
    "    Xi,Ri = np.linalg.qr(Zi)\n",
    "    lambd_alt = lambd;\n",
    "    lambd = np.diag(Ri)\n",
    "    i = i + 1;\n",
    "    #print(lambd)\n",
    "    \n",
    "    plt.subplot(2, 2, 1)\n",
    "    plt.plot(i, Ri[0,0], 'o')\n",
    "    plt.title('1.EV')\n",
    "\n",
    "    plt.subplot(2, 2, 2)\n",
    "    plt.plot(i, Ri[1,1], 'o')\n",
    "    plt.title('2.EV')\n",
    "    \n",
    "    plt.subplot(2, 2, 3)\n",
    "    plt.plot(i, Ri[2,2], 'o')\n",
    "    plt.title('3.EV')\n",
    "    \n",
    "    plt.subplot(2, 2, 4)\n",
    "    plt.plot(i, Ri[3,3], 'o')\n",
    "    plt.title('4.EV')\n",
    "    \n",
    "    norm = np.linalg.norm(lambd - lambd_alt)/np.linalg.norm(lambd_alt)\n",
    "    #plt.subplot(1,1,1)\n",
    "    #plt.plot(i, norm,'o')\n",
    "    #plt.title('Relative error')\n",
    "    if (i > iter_max or norm < eps):\n",
    "        break;\n",
    "    \n",
    "    pass\n",
    "plt.show()\n",
    "#plt.show()\n",
    "print(i, lambd)"
   ]
  },
  {
   "cell_type": "markdown",
   "metadata": {
    "deletable": true,
    "editable": true
   },
   "source": [
    "## FE-Matrices\n",
    "\n",
    "### Load the Matrices\n",
    "\n",
    "Load the system matrices.\n",
    "The matices are real, square and symmetric with dimension $3N \\times 3N$.\n",
    "The DoFs are arranged in the order $x_1, y_1, z_1, x_2, \\dots, z_N$ where $x_i$ denotes the x-displacement of node $i$.\n",
    "\n",
    "Consistent massmatrix\n",
    "$M = \\int_V \\rho\\,\\varphi\\, \\varphi^\\mathrm{T} \\, \\mathrm{d}V$\n",
    "\n",
    "Stiffness matrix\n",
    "$K = \\int_V D^\\mathrm{T} \\, E \\, D \\, \\mathrm{d}V$"
   ]
  },
  {
   "cell_type": "code",
   "execution_count": null,
   "metadata": {
    "deletable": true,
    "editable": true
   },
   "outputs": [],
   "source": [
    "M = mmread('data/Ms.mtx').toarray() # mass matrix\n",
    "K = mmread('data/Ks.mtx').toarray() # stiffness matrix\n",
    "X = mmread('data/X.mtx') # coodinate matrix with columns corresponding to x,y,z position of the nodes\n",
    "\n",
    "N = X.shape[0] # number of nodes"
   ]
  },
  {
   "cell_type": "markdown",
   "metadata": {
    "deletable": true,
    "editable": true
   },
   "source": [
    "The DoFs in the system matrices are arranged according to a regular grid of linear finite elements.\n",
    "In the following we determine the unique x, y, and z coodinates of the grid."
   ]
  },
  {
   "cell_type": "code",
   "execution_count": null,
   "metadata": {
    "deletable": true,
    "editable": true
   },
   "outputs": [],
   "source": [
    "nprec = 6 # precision for finding uniqe values\n",
    "# get grid vectors (the unique vectors of the x,y,z coodinate-grid)\n",
    "x = np.unique(np.round(X[:,0],decimals=nprec))\n",
    "y = np.unique(np.round(X[:,1],decimals=nprec))\n",
    "z = np.unique(np.round(X[:,2],decimals=nprec))\n",
    "print('Nx =',len(x))\n",
    "print('Ny =',len(y))\n",
    "print('Nz =',len(z))\n",
    "# grid matrices\n",
    "Xg = np.reshape(X[:,0],[len(y),len(x),len(z)])\n",
    "Yg = np.reshape(X[:,1],[len(y),len(x),len(z)])\n",
    "Zg = np.reshape(X[:,2],[len(y),len(x),len(z)])\n",
    "# or equivalent: Xg,Yg,Zg  = np.meshgrid(x,y,z)"
   ]
  },
  {
   "cell_type": "markdown",
   "metadata": {
    "deletable": true,
    "editable": true
   },
   "source": [
    "### Plot the Geometry\n",
    "\n",
    "One can plot the location of the nodes, select subsets of nodes and plot them ..."
   ]
  },
  {
   "cell_type": "code",
   "execution_count": null,
   "metadata": {
    "deletable": true,
    "editable": true
   },
   "outputs": [],
   "source": [
    "# plot the geometric points \n",
    "from mpl_toolkits.mplot3d import Axes3D\n",
    "fig,ax = plt.subplots(subplot_kw={'projection':'3d'})\n",
    "\n",
    "#sm = 0.1/mode.max()\n",
    "ax.scatter(X[:,0],X[:,1],X[:,2],s=10)\n",
    "ax.set_xlabel('x')\n",
    "ax.set_ylabel('y')\n",
    "ax.set_zlabel('z')\n",
    "\n",
    "# select nodes on the west-side, i.e. at x=x_min\n",
    "tol = 1e-12\n",
    "x_min = X[:,0].min()\n",
    "Nw = np.argwhere(np.abs(X[:,0]-x_min)<tol) # Node indices of West-Edge nodes\n",
    "\n",
    "# select node on North-East-Top corner\n",
    "Nnet = np.argwhere(np.all(np.abs(X-X.max(axis=0))<tol,axis=1))[0]\n",
    "\n",
    "ax.scatter(X[Nw,0],X[Nw,1],X[Nw,2],s=30,marker='x',label='West')\n",
    "ax.scatter(X[Nnet,0],X[Nnet,1],X[Nnet,2],s=30,marker='x',label='North-East-Top')\n",
    "ax.legend()\n"
   ]
  },
  {
   "cell_type": "markdown",
   "metadata": {
    "deletable": true,
    "editable": true
   },
   "source": [
    "### Solve a Static Problem\n",
    "\n",
    "Solve a static problem applying nodal forces to the North-East-Top corner and fixing all DoF at the West-Edge of the plate.\n",
    "\n",
    "We solve the system\n",
    "$$ K u = f $$\n",
    "for the displacements $u$.\n",
    "The system needs to be constrained, thus, we select nodes which will be removed from the system."
   ]
  },
  {
   "cell_type": "code",
   "execution_count": null,
   "metadata": {
    "deletable": true,
    "editable": true
   },
   "outputs": [],
   "source": [
    "\n",
    "# because the dofs are ordered as x_1, y_1, z_1, x_2, ..., z_N in the global system, the x, y, and z dofs for node n are\n",
    "# located at position 3n, 3n+1, 3n+2.\n",
    "\n",
    "# indices of x, y, and z DoFs in the global system\n",
    "# can be used to get DoF-index in global system, e.g. for y of node n by Iy[n]\n",
    "Ix = np.arange(N)*3 # index of x-dofs\n",
    "Iy = np.arange(N)*3+1\n",
    "Iz = np.arange(N)*3+2\n",
    "\n",
    "# select which indices in the global system must be constrained\n",
    "If = np.array([Ix[Nw],Iy[Nw],Iz[Nw]]).ravel() # dof indices of fix constraint\n",
    "Ic = np.array([(i in If) for i in np.arange(3*N)]) # boolean array of constraind dofs\n",
    "\n",
    "# construct forcing vector\n",
    "f = np.zeros(3*N)\n",
    "f[Iz[Nnet]] = 2.0\n",
    "\n",
    "# compute the reduced system\n",
    "Kc = K[np.ix_(~Ic,~Ic)]\n",
    "fc = f[~Ic]\n",
    "\n",
    "# compute solution\n",
    "u = np.zeros(3*N) # initialize displacement vector\n",
    "\n",
    "# solve the linear system Kc*uc=fc\n",
    "uc = np.linalg.solve(Kc,fc)\n",
    "\n",
    "# sort solution in large vector\n",
    "u[~Ic] = uc"
   ]
  },
  {
   "cell_type": "code",
   "execution_count": null,
   "metadata": {
    "deletable": true,
    "editable": true
   },
   "outputs": [],
   "source": [
    "# plot in 3D\n",
    "fig,ax = plt.subplots(subplot_kw={'projection':'3d'})\n",
    "\n",
    "#sm = 0.1/mode.max()\n",
    "ax.scatter(X[:,0],X[:,1],X[:,2],s=5,label='undeformed') # undeformed\n",
    "\n",
    "# format U like X\n",
    "U = np.array([u[Ix],u[Iy],u[Iz]]).T\n",
    "\n",
    "# scale factor for plotting\n",
    "s = 0.5/np.max(np.sqrt(np.sum(U**2,axis=0)))\n",
    "Xu = X + s*U # defomed configuration (displacement scaled by s)\n",
    "\n",
    "ax.scatter(Xu[:,0],Xu[:,1],Xu[:,2],c='g',label='deformed')\n",
    "ax.scatter(X[Nw,0],X[Nw,1],X[Nw,2],s=50,marker='x',label='constraint')\n",
    "ax.quiver(X[:,0],X[:,1],X[:,2],f[Ix],f[Iy],f[Iz],color='r',length=0.1,label='load')\n",
    "\n",
    "ax.set_xlabel('x')\n",
    "ax.set_ylabel('y')\n",
    "ax.set_zlabel('z')\n",
    "ax.legend()"
   ]
  },
  {
   "cell_type": "code",
   "execution_count": null,
   "metadata": {
    "deletable": true,
    "editable": true
   },
   "outputs": [],
   "source": [
    "# plot in 2D (z-displacement of the top-nodes)\n",
    "\n",
    "# select nodes\n",
    "Nt = np.argwhere(np.abs(X[:,2]-X[:,2].max())<tol)\n",
    "# extract z-displacements\n",
    "uz = np.reshape(u[Iz[Nt]],[len(y),len(x)])\n",
    "\n",
    "lim = np.max(np.abs(uz)) # limit to center color legend around 0\n",
    "\n",
    "fig,ax = plt.subplots()\n",
    "cax = ax.contourf(x,y,uz,cmap=plt.get_cmap('RdBu_r'),vmin=-lim,vmax=lim)\n",
    "fig.colorbar(cax,extend='both')#,orientation='horizontal')\n",
    "ax.set_aspect('equal')\n",
    "ax.set_xlabel('x')\n",
    "ax.set_ylabel('y')"
   ]
  },
  {
   "cell_type": "markdown",
   "metadata": {},
   "source": [
    "### All Edges Clamped\n"
   ]
  },
  {
   "cell_type": "code",
   "execution_count": null,
   "metadata": {},
   "outputs": [],
   "source": [
    "# Select nodes on outer surfaces\n",
    "tol = 1e-12\n",
    "iX_min = np.empty([3, 1])\n",
    "iX_max = np.empty([3, 1])\n",
    "iX_mid = np.empty([3, 1])\n",
    "Nmin_i = []\n",
    "Nmax_i = []\n",
    "for i in range(3):\n",
    "    iX_min[i] = X[:,i].min()\n",
    "    iX_max[i] = X[:,i].max()\n",
    "    iX_mid[i] = (iX_max[i]+iX_min[i])/2\n",
    "    Nmin_i.append( np.argwhere(np.abs(X[:,i]-iX_min[i])<tol) )\n",
    "    Nmax_i.append( np.argwhere(np.abs(X[:,i]-iX_max[i])<tol) )\n"
   ]
  },
  {
   "cell_type": "code",
   "execution_count": null,
   "metadata": {},
   "outputs": [],
   "source": [
    "# Clamp all outer surfaces\n",
    "Nc = np.vstack(Nmin_i + Nmax_i)\n",
    "\n",
    "# select which indices in the global system must be constrained\n",
    "If = np.array([Ix[Nc],Iy[Nc],Iz[Nc]]).ravel() # dof indices of fix constraint\n",
    "Ic = np.array([(i in If) for i in np.arange(3*N)]) # boolean array of constraind dofs\n",
    "\n",
    "# plot the geometric points \n",
    "from mpl_toolkits.mplot3d import Axes3D\n",
    "from scipy import spatial\n",
    "\n",
    "fig,ax = plt.subplots(subplot_kw={'projection':'3d'})\n",
    "\n",
    "#sm = 0.1/mode.max()\n",
    "#ax.scatter(X[:,0],X[:,1],X[:,2],s=10)\n",
    "ax.set_xlabel('x')\n",
    "ax.set_ylabel('y')\n",
    "ax.set_zlabel('z')\n",
    "\n",
    "pt = [0,0,0]\n",
    "distance,index = spatial.KDTree(X).query(pt)\n",
    "print(distance, index)\n",
    "Nnet = index\n",
    "print(X[index,:])\n",
    "ax.scatter(X[Nc,0],X[Nc,1],X[Nc,2],s=30,marker='x',label='Clamped')\n",
    "ax.scatter(X[Nnet,0],X[Nnet,1],X[Nnet,2],s=30,marker='x',label='Load')\n",
    "ax.legend()\n"
   ]
  },
  {
   "cell_type": "code",
   "execution_count": null,
   "metadata": {},
   "outputs": [],
   "source": [
    "# construct forcing vector\n",
    "f = np.zeros(3*N)\n",
    "f[Iz[Nnet]] = 1\n",
    "\n",
    "# compute the reduced system\n",
    "Kc = K[np.ix_(~Ic,~Ic)]\n",
    "fc = f[~Ic]\n",
    "\n",
    "# compute solution\n",
    "u = np.zeros(3*N) # initialize displacement vector\n",
    "\n",
    "# solve the linear system Kc*uc=fc\n",
    "uc = np.linalg.solve(Kc,fc)\n",
    "\n",
    "# sort solution in large vector\n",
    "u[~Ic] = uc\n",
    "# plot in 3D\n",
    "fig,ax = plt.subplots(subplot_kw={'projection':'3d'})\n",
    "\n",
    "#sm = 0.1/mode.max()\n",
    "#ax.scatter(X[:,0],X[:,1],X[:,2],s=5,label='undeformed') # undeformed\n",
    "\n",
    "# format U like X\n",
    "U = np.array([u[Ix],u[Iy],u[Iz]]).T\n",
    "\n",
    "# scale factor for plotting\n",
    "s = 1E10\n",
    "Xu = X + s*U # defomed configuration (displacement scaled by s)\n",
    "\n",
    "print(np.max(U[:,2]))\n",
    "\n",
    "ax.scatter(Xu[:,0],Xu[:,1],Xu[:,2],c='g',label='deformed')\n",
    "#ax.scatter(X[Nc,0],X[Nc,1],X[Nc,2],s=50,marker='x',label='constraint')\n",
    "#ax.quiver(X[:,0],X[:,1],X[:,2],f[Ix],f[Iy],f[Iz],color='r',length=0.1,label='load')\n",
    "\n",
    "ax.set_xlabel('x')\n",
    "ax.set_ylabel('y')\n",
    "ax.set_zlabel('z')\n",
    "#ax.set_zlim([-.01, .02])\n",
    "ax.legend()\n",
    "print(np.max(X[:,2]))"
   ]
  },
  {
   "cell_type": "code",
   "execution_count": null,
   "metadata": {},
   "outputs": [],
   "source": [
    "# plot in 2D (z-displacement of the top-nodes)\n",
    "\n",
    "# select nodes\n",
    "Nt = np.argwhere(np.abs(X[:,2]-0)<1E-6)\n",
    "# extract z-displacements\n",
    "uz = np.reshape(u[Iz[Nt]],[len(y),len(x)])\n",
    "\n",
    "lim = np.max(np.abs(uz)) # limit to center color legend around 0\n",
    "\n",
    "fig,ax = plt.subplots()\n",
    "cax = ax.contourf(x,y,uz,cmap=plt.get_cmap('RdBu_r'),vmin=-lim,vmax=lim)\n",
    "fig.colorbar(cax,extend='both')#,orientation='horizontal')\n",
    "ax.set_aspect('equal')\n",
    "ax.set_xlabel('x')\n",
    "ax.set_ylabel('y')"
   ]
  },
  {
   "cell_type": "markdown",
   "metadata": {},
   "source": [
    "### All Edges but z-Planes Clamped "
   ]
  },
  {
   "cell_type": "code",
   "execution_count": null,
   "metadata": {},
   "outputs": [],
   "source": [
    "# Clamp all but bottom and top plane\n",
    "Nc = np.vstack(Nmin_i[0:2] + Nmax_i[0:2])\n",
    "\n",
    "# select which indices in the global system must be constrained\n",
    "If = np.array([Ix[Nc],Iy[Nc],Iz[Nc]]).ravel() # dof indices of fix constraint\n",
    "Ic = np.array([(i in If) for i in np.arange(3*N)]) # boolean array of constraind dofs\n",
    "\n",
    "# plot the geometric points \n",
    "from mpl_toolkits.mplot3d import Axes3D\n",
    "from scipy import spatial\n",
    "\n",
    "fig,ax = plt.subplots(subplot_kw={'projection':'3d'})\n",
    "\n",
    "#sm = 0.1/mode.max()\n",
    "#ax.scatter(X[:,0],X[:,1],X[:,2],s=10)\n",
    "ax.set_xlabel('x')\n",
    "ax.set_ylabel('y')\n",
    "ax.set_zlabel('z')\n",
    "\n",
    "pt = [0,0,0]\n",
    "distance,index = spatial.KDTree(X).query(pt)\n",
    "print(distance, index)\n",
    "Nnet = index\n",
    "print(X[index,:])\n",
    "ax.scatter(X[Nc,0],X[Nc,1],X[Nc,2],s=30,marker='x',label='Clamped')\n",
    "ax.scatter(X[Nnet,0],X[Nnet,1],X[Nnet,2],s=30,marker='x',label='Load')\n",
    "ax.legend()\n"
   ]
  },
  {
   "cell_type": "code",
   "execution_count": null,
   "metadata": {},
   "outputs": [],
   "source": [
    "# construct forcing vector\n",
    "f = np.zeros(3*N)\n",
    "f[Iz[Nnet]] = 1\n",
    "\n",
    "# compute the reduced system\n",
    "Kc = K[np.ix_(~Ic,~Ic)]\n",
    "fc = f[~Ic]\n",
    "\n",
    "# compute solution\n",
    "u = np.zeros(3*N) # initialize displacement vector\n",
    "\n",
    "# solve the linear system Kc*uc=fc\n",
    "uc = np.linalg.solve(Kc,fc)\n",
    "\n",
    "# sort solution in large vector\n",
    "u[~Ic] = uc\n",
    "# plot in 3D\n",
    "fig,ax = plt.subplots(subplot_kw={'projection':'3d'})\n",
    "\n",
    "#sm = 0.1/mode.max()\n",
    "#ax.scatter(X[:,0],X[:,1],X[:,2],s=5,label='undeformed') # undeformed\n",
    "\n",
    "# format U like X\n",
    "U = np.array([u[Ix],u[Iy],u[Iz]]).T\n",
    "\n",
    "# scale factor for plotting\n",
    "s = 1E6\n",
    "Xu = X + s*U # defomed configuration (displacement scaled by s)\n",
    "\n",
    "print(np.max(U[:,2]))\n",
    "\n",
    "ax.scatter(Xu[:,0],Xu[:,1],Xu[:,2],c='g',label='deformed')\n",
    "#ax.scatter(X[Nc,0],X[Nc,1],X[Nc,2],s=50,marker='x',label='constraint')\n",
    "#ax.quiver(X[:,0],X[:,1],X[:,2],f[Ix],f[Iy],f[Iz],color='r',length=0.1,label='load')\n",
    "\n",
    "ax.set_xlabel('x')\n",
    "ax.set_ylabel('y')\n",
    "ax.set_zlabel('z')\n",
    "#ax.set_zlim([-.01, .02])\n",
    "ax.legend()\n",
    "print(np.max(X[:,2]))"
   ]
  },
  {
   "cell_type": "code",
   "execution_count": null,
   "metadata": {},
   "outputs": [],
   "source": [
    "# plot in 2D (z-displacement of the top-nodes)\n",
    "\n",
    "# select nodes\n",
    "Nt = np.argwhere(np.abs(X[:,2])<1E-6)\n",
    "# extract z-displacements\n",
    "uz = np.reshape(u[Iz[Nt]],[len(y),len(x)])\n",
    "\n",
    "lim = np.max(np.abs(uz)) # limit to center color legend around 0\n",
    "\n",
    "fig,ax = plt.subplots()\n",
    "cax = ax.contourf(x,y,uz,cmap=plt.get_cmap('RdBu_r'),vmin=-lim,vmax=lim)\n",
    "fig.colorbar(cax,extend='both')#,orientation='horizontal')\n",
    "ax.set_aspect('equal')\n",
    "ax.set_xlabel('x')\n",
    "ax.set_ylabel('y')"
   ]
  },
  {
   "cell_type": "markdown",
   "metadata": {
    "deletable": true,
    "editable": true
   },
   "source": [
    "### Compute eigenvalues and modeshapes\n",
    "\n",
    "#### All free\n",
    "Use the unconstrained system"
   ]
  },
  {
   "cell_type": "code",
   "execution_count": null,
   "metadata": {
    "deletable": true,
    "editable": true
   },
   "outputs": [],
   "source": [
    "# only compute a subset of modes\n",
    "from scipy.linalg import eigh\n",
    "k = 15\n",
    "W2,V = eigh(K,M,eigvals=(0,k))\n",
    "W2 = W2.astype(complex)\n",
    "W = np.sqrt(W2)\n"
   ]
  },
  {
   "cell_type": "code",
   "execution_count": null,
   "metadata": {},
   "outputs": [],
   "source": [
    "n_modes = 15\n",
    "t = 0\n",
    "\n",
    "for k in range(n_modes):\n",
    "    u = np.real(V[:,k] * np.exp(W[k]*t*1j))\n",
    "    # plot in 3D\n",
    "    \n",
    "    fig,ax = plt.subplots(subplot_kw={'projection':'3d'})    \n",
    "\n",
    "    #sm = 0.1/mode.max()\n",
    "    ax.scatter(X[:,0],X[:,1],X[:,2],s=5,label='undeformed') # undeformed\n",
    "\n",
    "    # format U like X\n",
    "    U = np.array([u[Ix],u[Iy],u[Iz]]).T\n",
    "\n",
    "    # scale factor for plotting\n",
    "    s = 0.5/np.max(np.sqrt(np.sum(U**2,axis=0)))\n",
    "    Xu = X + s*U # defomed configuration (displacement scaled by s)\n",
    "\n",
    "    ax.scatter(Xu[:,0],Xu[:,1],Xu[:,2],c='g',label='deformed')\n",
    "\n",
    "    ax.set_xlabel('x')\n",
    "    ax.set_ylabel('y')\n",
    "    ax.set_zlabel('z')\n",
    "    ax.legend()\n",
    "    txt = '{}. Mode'.format(k+1)\n",
    "    fig.text(.5,.9,txt)"
   ]
  },
  {
   "cell_type": "markdown",
   "metadata": {
    "deletable": true,
    "editable": true
   },
   "source": [
    "#### East Edges Clamped"
   ]
  },
  {
   "cell_type": "code",
   "execution_count": null,
   "metadata": {},
   "outputs": [],
   "source": [
    "# Clamp all but bottom and top plane\n",
    "Nc = np.vstack(Nmin_i[0])\n",
    "\n",
    "# select which indices in the global system must be constrained\n",
    "If = np.array([Ix[Nc],Iy[Nc],Iz[Nc]]).ravel() # dof indices of fix constraint\n",
    "Ic = np.array([(i in If) for i in np.arange(3*N)]) # boolean array of constraind dofs\n",
    "\n",
    "fig,ax = plt.subplots(subplot_kw={'projection':'3d'})\n",
    "\n",
    "#sm = 0.1/mode.max()\n",
    "ax.scatter(X[:,0],X[:,1],X[:,2],s=10)\n",
    "ax.set_xlabel('x')\n",
    "ax.set_ylabel('y')\n",
    "ax.set_zlabel('z')\n",
    "\n",
    "ax.scatter(X[Nc,0],X[Nc,1],X[Nc,2],s=30,marker='x',label='Clamped')\n",
    "ax.legend()\n"
   ]
  },
  {
   "cell_type": "code",
   "execution_count": null,
   "metadata": {},
   "outputs": [],
   "source": [
    "# compute the reduced system\n",
    "Mc = M[np.ix_(~Ic,~Ic)]\n",
    "Kc = K[np.ix_(~Ic,~Ic)]\n",
    "\n",
    "# only compute a subset of modes\n",
    "from scipy.linalg import eigh\n",
    "k = 15\n",
    "W2,V = eigh(Kc,Mc,eigvals=(0,k))\n",
    "W2 = W2.astype(complex)\n",
    "W = np.sqrt(W2)\n"
   ]
  },
  {
   "cell_type": "code",
   "execution_count": null,
   "metadata": {},
   "outputs": [],
   "source": [
    "n_modes = 15\n",
    "t = 0.1\n",
    "\n",
    "for k in range(n_modes):\n",
    "    u = np.zeros(3*N) # initialize displacement vector\n",
    "    uc = np.real(V[:,k] * np.exp(W[k]*t*1j))\n",
    "    u[~Ic] = uc\n",
    "    # plot in 3D\n",
    "    fig,ax = plt.subplots(subplot_kw={'projection':'3d'})    \n",
    "\n",
    "    #sm = 0.1/mode.max()\n",
    "    ax.scatter(X[:,0],X[:,1],X[:,2],s=5,label='undeformed') # undeformed\n",
    "\n",
    "    # format U like X\n",
    "    U = np.array([u[Ix],u[Iy],u[Iz]]).T\n",
    "\n",
    "    # scale factor for plotting\n",
    "    s = 0.5/np.max(np.sqrt(np.sum(U**2,axis=0)))\n",
    "    Xu = X + s*U # defomed configuration (displacement scaled by s)\n",
    "\n",
    "    ax.scatter(Xu[:,0],Xu[:,1],Xu[:,2],c='g',label='deformed')\n",
    "\n",
    "    ax.set_xlabel('x')\n",
    "    ax.set_ylabel('y')\n",
    "    ax.set_zlabel('z')\n",
    "    ax.legend()\n",
    "    txt = '{}. Mode'.format(k+1)\n",
    "    fig.text(.5,.9,txt)"
   ]
  },
  {
   "cell_type": "markdown",
   "metadata": {
    "deletable": true,
    "editable": true
   },
   "source": [
    "#### All Edges but z-Planes Clamped"
   ]
  },
  {
   "cell_type": "code",
   "execution_count": null,
   "metadata": {
    "deletable": true,
    "editable": true
   },
   "outputs": [],
   "source": [
    "# Clamp all but bottom and top plane\n",
    "Nc = np.vstack(Nmin_i[0:2] + Nmax_i[0:2])\n",
    "\n",
    "# select which indices in the global system must be constrained\n",
    "If = np.array([Ix[Nc],Iy[Nc],Iz[Nc]]).ravel() # dof indices of fix constraint\n",
    "Ic = np.array([(i in If) for i in np.arange(3*N)]) # boolean array of constraind dofs\n",
    "\n",
    "fig,ax = plt.subplots(subplot_kw={'projection':'3d'})\n",
    "\n",
    "#sm = 0.1/mode.max()\n",
    "ax.scatter(X[:,0],X[:,1],X[:,2],s=10)\n",
    "ax.set_xlabel('x')\n",
    "ax.set_ylabel('y')\n",
    "ax.set_zlabel('z')\n",
    "\n",
    "ax.scatter(X[Nc,0],X[Nc,1],X[Nc,2],s=30,marker='x',label='Clamped')\n",
    "ax.legend()\n"
   ]
  },
  {
   "cell_type": "code",
   "execution_count": null,
   "metadata": {},
   "outputs": [],
   "source": [
    "# compute the reduced system\n",
    "Mc = M[np.ix_(~Ic,~Ic)]\n",
    "Kc = K[np.ix_(~Ic,~Ic)]\n",
    "\n",
    "# only compute a subset of modes\n",
    "from scipy.linalg import eigh\n",
    "k = 15\n",
    "W2,V = eigh(Kc,Mc,eigvals=(0,k))\n",
    "W2 = W2.astype(complex)\n",
    "W = np.sqrt(W2)\n"
   ]
  },
  {
   "cell_type": "code",
   "execution_count": null,
   "metadata": {},
   "outputs": [],
   "source": [
    "n_modes = 15\n",
    "t = 0.1\n",
    "\n",
    "for k in range(n_modes):\n",
    "    u = np.zeros(3*N) # initialize displacement vector\n",
    "    uc = np.real(V[:,k] * np.exp(W[k]*t*1j))\n",
    "    u[~Ic] = uc\n",
    "    # plot in 3D\n",
    "    fig,ax = plt.subplots(subplot_kw={'projection':'3d'})    \n",
    "\n",
    "    #sm = 0.1/mode.max()\n",
    "    ax.scatter(X[:,0],X[:,1],X[:,2],s=5,label='undeformed') # undeformed\n",
    "\n",
    "    # format U like X\n",
    "    U = np.array([u[Ix],u[Iy],u[Iz]]).T\n",
    "\n",
    "    # scale factor for plotting\n",
    "    s = 0.5/np.max(np.sqrt(np.sum(U**2,axis=0))) * 1E1\n",
    "    Xu = X + s*U # defomed configuration (displacement scaled by s)\n",
    "\n",
    "    ax.scatter(Xu[:,0],Xu[:,1],Xu[:,2],c='g',label='deformed')\n",
    "\n",
    "    ax.set_xlabel('x')\n",
    "    ax.set_ylabel('y')\n",
    "    ax.set_zlabel('z')\n",
    "    ax.legend()\n",
    "    txt = '{}. Mode'.format(k+1)\n",
    "    fig.text(.5,.9,txt)"
   ]
  },
  {
   "cell_type": "code",
   "execution_count": null,
   "metadata": {},
   "outputs": [],
   "source": [
    "n_modes = 15\n",
    "t = 0.1\n",
    "\n",
    "for k in range(n_modes):\n",
    "    u = np.zeros(3*N) # initialize displacement vector\n",
    "    uc = np.real(V[:,k] * np.exp(W[k]*t*1j))\n",
    "    u[~Ic] = uc\n",
    "    \n",
    "    # select nodes\n",
    "    Nt = np.argwhere(np.abs(X[:,2])<1E-6)\n",
    "    #If = np.array([Ix[Nt],Iy[Nt],Iz[Nt]]).ravel()\n",
    "    #It = np.array([(i in If) for i in np.arange(3*N)])\n",
    "    #ut = u[It]\n",
    "    #print(np.shape(Ix))\n",
    "    #print(np.shape(ut))\n",
    "\n",
    "    # format U like X\n",
    "    U = np.array([u[Ix],u[Iy],u[Iz]]).T\n",
    "\n",
    "    # scale factor for plotting\n",
    "    s = 0.5/np.max(np.sqrt(np.sum(U**2,axis=0))) * 1E-1\n",
    "    Xu = X + s*U # defomed configuration (displacement scaled by s)\n",
    "    \n",
    "    fig,ax = plt.subplots(subplot_kw={'projection':'3d'})    \n",
    "    ax.scatter(Xu[Nt,0],Xu[Nt,1],Xu[Nt,2],c='g',label='deformed')\n",
    "\n",
    "    ax.set_xlabel('x')\n",
    "    ax.set_ylabel('y')\n",
    "    ax.set_zlabel('z')\n",
    "    ax.legend()\n",
    "    txt = '{}. Mode'.format(k+1)\n",
    "    fig.text(.5,.9,txt)\n",
    "\n",
    "\n",
    "# plot in 2D (z-displacement of the top-nodes)\n",
    "\n",
    "\n",
    "\n"
   ]
  }
 ],
 "metadata": {
  "git": {
   "suppress_outputs": true
  },
  "kernelspec": {
   "display_name": "Python 3",
   "language": "python",
   "name": "python3"
  },
  "language_info": {
   "codemirror_mode": {
    "name": "ipython",
    "version": 3
   },
   "file_extension": ".py",
   "mimetype": "text/x-python",
   "name": "python",
   "nbconvert_exporter": "python",
   "pygments_lexer": "ipython3",
   "version": "3.6.0"
  }
 },
 "nbformat": 4,
 "nbformat_minor": 2
}
