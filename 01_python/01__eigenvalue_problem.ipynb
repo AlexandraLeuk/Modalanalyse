{
 "cells": [
  {
   "cell_type": "markdown",
   "metadata": {
    "deletable": true,
    "editable": true
   },
   "source": [
    "# 1 | Eigenvalue Problem"
   ]
  },
  {
   "cell_type": "code",
   "execution_count": 1,
   "metadata": {
    "collapsed": true,
    "deletable": true,
    "editable": true
   },
   "outputs": [],
   "source": [
    "import numpy as np\n",
    "from scipy.io import mminfo,mmread\n",
    "import matplotlib.pyplot as plt\n",
    "%matplotlib inline\n",
    "\n",
    "from numpy.linalg import inv, eig\n",
    "from numpy import sqrt, dot, sum, abs, diag, array"
   ]
  },
  {
   "cell_type": "markdown",
   "metadata": {
    "deletable": true,
    "editable": true
   },
   "source": [
    "## Eigenvalue Problems\n",
    "\n",
    "In order to test different algorithms to compute eigenvalues we use a 4x4 matrix with eigenvalues 1, 2, 3, and 4.\n",
    "It is constructed as \n",
    "$$ A = S D S^{-1} $$\n",
    "where $D$ is a diagonal matrix containing the EVs."
   ]
  },
  {
   "cell_type": "code",
   "execution_count": 2,
   "metadata": {
    "collapsed": true,
    "deletable": true,
    "editable": true
   },
   "outputs": [],
   "source": [
    "np.random.seed(1)\n",
    "D = np.array([1, 2, 3 ,4])\n",
    "S = (np.random.rand(len(D),len(D)) - 0.5)*2 # compute a random matrix with entries between -1 and 1\n",
    "A = np.dot(np.dot(S,np.diag(D)),inv(S)) # S*D*S^-1, computes a unitary similar matrix of D having the same EVs"
   ]
  },
  {
   "cell_type": "code",
   "execution_count": 3,
   "metadata": {
    "collapsed": false,
    "deletable": true,
    "editable": true
   },
   "outputs": [
    {
     "data": {
      "text/plain": [
       "(array([ 1.,  4.,  3.,  2.]),\n",
       " array([[ 0.17314452, -0.55622662, -0.65739702,  0.36761094],\n",
       "        [ 0.73709037, -0.43458468, -0.41259759, -0.68018217],\n",
       "        [ 0.21540826,  0.52119875, -0.10626688,  0.06476564],\n",
       "        [ 0.61669931,  0.47968736, -0.62153015,  0.63088812]]),\n",
       " array([[ 4.00554954,  0.01354906,  1.19192526, -1.27636247],\n",
       "        [ 2.77659659,  1.49989982,  3.16264938, -2.48173559],\n",
       "        [ 1.45212322, -0.48865181,  6.86559345, -1.8724586 ],\n",
       "        [ 4.12225091, -0.92237257,  9.49381671, -2.37104281]]))"
      ]
     },
     "execution_count": 3,
     "metadata": {},
     "output_type": "execute_result"
    }
   ],
   "source": [
    "#test if correct?\n",
    "w,v=np.linalg.eig(A)\n",
    "w,v,A"
   ]
  },
  {
   "cell_type": "markdown",
   "metadata": {
    "deletable": true,
    "editable": true
   },
   "source": [
    "### Vector Interation\n",
    "\n",
    "* also known as power mthod, power iteration, or von Mises iteration\n",
    "* yields largest (in magnitude) eigenvalue and corresponding eigenvector\n",
    "* converges baldy if $\\lambda_n/\\lambda_{n-1} \\approx 1$, i.e. the second largest EV is almost the same size as the largest\n",
    "\n",
    "Use the recursion\n",
    "$$ b_{k+1} = \\frac{A b_k}{\\lVert A_k b_k \\rVert}$$\n",
    "\n",
    "where $b_k$ converges to the eigenvector and ${\\lVert A_k b_k \\rVert}$ to the eigenvalue."
   ]
  },
  {
   "cell_type": "code",
   "execution_count": 4,
   "metadata": {
    "collapsed": false,
    "deletable": true,
    "editable": true
   },
   "outputs": [
    {
     "data": {
      "image/png": "[encoded data removed]",
      "text/plain": [
       "<matplotlib.figure.Figure at 0x94e3a58>"
      ]
     },
     "metadata": {},
     "output_type": "display_data"
    }
   ],
   "source": [
    "x = np.ones(len(D)) # one can start with any vector\n",
    "\n",
    "for i in range(10) :\n",
    "    # compute numerator\n",
    "    num=np.dot(A,x)\n",
    "    # compute denominator\n",
    "    den=np.linalg.norm(np.dot(A,x))\n",
    "    # compute recursion\n",
    "    x=num/den\n",
    "    # plot the intermediate results\n",
    "    plt.scatter(i, den)\n",
    "    \n",
    "    pass"
   ]
  },
  {
   "cell_type": "code",
   "execution_count": 5,
   "metadata": {
    "collapsed": false,
    "deletable": true,
    "editable": true
   },
   "outputs": [
    {
     "name": "stdout",
     "output_type": "stream",
     "text": [
      "Largest EWert found:\n",
      "4.00761798293\n",
      "corresponding EVector:\n",
      "[-0.47170868 -0.38198032  0.54595268  0.57750985]\n"
     ]
    },
    {
     "data": {
      "text/plain": [
       "array([-0.55622662, -0.43458468,  0.52119875,  0.47968736])"
      ]
     },
     "execution_count": 5,
     "metadata": {},
     "output_type": "execute_result"
    }
   ],
   "source": [
    "print(\"Largest EWert found:\")\n",
    "print(den) #largest EW\n",
    "print(\"corresponding EVector:\")\n",
    "print(x) #corresponding EV\n",
    "\n",
    "v[:,1] #test für EV (for i=20 iterations the EV will be much better!)\n"
   ]
  },
  {
   "cell_type": "markdown",
   "metadata": {
    "deletable": true,
    "editable": true
   },
   "source": [
    "### Inverse Vector Iteration\n",
    "\n",
    "If $\\lambda$ is an eigenvalue of $A$ then $\\lambda-\\sigma$ is an eigenvalue of $A-\\sigma I$.\n",
    "The eigenvalue of the inverse $(A-\\sigma I)^{-1} = B$ will be $\\mu = \\frac{1}{\\lambda-\\sigma}$.\n",
    "Thus, if $\\lambda\\approx\\sigma$, vector iteration with B will yield the smallest (in magnitude) EV of A.\n",
    "\n",
    "The iteration rule is then\n",
    "$$ b_{k+1} = (A - \\sigma I)^{-1} b_k \\text{ or } (A - \\sigma I) b_{k+1} = b_k $$\n",
    "\n",
    "The series converges to the same eigenvectors, the eigenvalues $\\mu$ are related to the original ones $\\lambda$ via\n",
    "$$ \\lambda = \\sigma + \\frac{1}{\\mu}$$\n",
    "\n",
    "* $\\sigma$ is called the shift point\n",
    "* a linear system has to be solved in each step\n",
    "* for a constant shift point the solution of the linear system corresponds to a matrix multiplication\n",
    "\n"
   ]
  },
  {
   "cell_type": "code",
   "execution_count": 6,
   "metadata": {
    "collapsed": false,
    "deletable": true,
    "editable": true
   },
   "outputs": [
    {
     "data": {
      "image/png": "[encoded data removed]",
      "text/plain": [
       "<matplotlib.figure.Figure at 0x9b65f98>"
      ]
     },
     "metadata": {},
     "output_type": "display_data"
    }
   ],
   "source": [
    "# choose shift point\n",
    "sig = 0\n",
    "B = inv(A-sig*np.diag(np.ones_like(D)))\n",
    "\n",
    "#y = np.dot(Binv,np.ones_like(D)) # start value\n",
    "x = np.ones(len(D))\n",
    "for i in range(10) :\n",
    "    # compute update\n",
    "    y=np.dot(B,x)\n",
    "    y_norm=np.linalg.norm(y)\n",
    "    x=y/y_norm\n",
    "    lamb=sig+1/y_norm\n",
    "    plt.scatter(i, lamb)\n",
    "    pass"
   ]
  },
  {
   "cell_type": "code",
   "execution_count": 7,
   "metadata": {
    "collapsed": false,
    "deletable": true,
    "editable": true
   },
   "outputs": [
    {
     "name": "stdout",
     "output_type": "stream",
     "text": [
      "Smallest EWert found:\n",
      "0.999921202549\n",
      "corresponding EVector:\n",
      "[-0.17344864 -0.73653657 -0.21547177 -0.61725309]\n"
     ]
    },
    {
     "data": {
      "text/plain": [
       "array([ 0.17314452,  0.73709037,  0.21540826,  0.61669931])"
      ]
     },
     "execution_count": 7,
     "metadata": {},
     "output_type": "execute_result"
    }
   ],
   "source": [
    "print(\"Smallest EWert found:\")\n",
    "print(lamb) #largest EW\n",
    "print(\"corresponding EVector:\")\n",
    "print(x) #corresponding EV\n",
    "\n",
    "v[:,0] #test für EV"
   ]
  },
  {
   "cell_type": "code",
   "execution_count": null,
   "metadata": {
    "collapsed": true,
    "deletable": true,
    "editable": true
   },
   "outputs": [],
   "source": []
  },
  {
   "cell_type": "markdown",
   "metadata": {
    "deletable": true,
    "editable": true
   },
   "source": [
    "### Rayleigh Quotient Iteration\n"
   ]
  },
  {
   "cell_type": "code",
   "execution_count": 8,
   "metadata": {
    "collapsed": false,
    "deletable": true,
    "editable": true
   },
   "outputs": [
    {
     "data": {
      "image/png": "[encoded data removed]",
      "text/plain": [
       "<matplotlib.figure.Figure at 0x77299b0>"
      ]
     },
     "metadata": {},
     "output_type": "display_data"
    }
   ],
   "source": [
    "# choose shift point\n",
    "sig = 1.6\n",
    "B = inv(A-sig*np.diag(np.ones_like(D)))\n",
    "\n",
    "#y = np.dot(Binv,np.ones_like(D)) # start value\n",
    "x = np.ones(len(D))\n",
    "for i in range(10) :\n",
    "    \n",
    "    # compute update\n",
    "    y=np.dot(B,x)\n",
    "    y_norm=np.linalg.norm(y)\n",
    "    x=y/y_norm\n",
    "    lamb=sig+1/y_norm\n",
    "    plt.scatter(i, lamb)\n",
    "    \n",
    "    # update shift point\n",
    "    num=np.dot(np.dot(np.transpose(x),A),x)\n",
    "    den=np.dot(np.transpose(x),x)\n",
    "    sig=num/den\n",
    "    try:\n",
    "        B = inv(A-sig*np.diag(np.ones_like(D)))\n",
    "    except np.linalg.linalg.LinAlgError as err:\n",
    "            print(\"Singular Matrix -> EV found\")\n",
    "    \n",
    "    pass"
   ]
  },
  {
   "cell_type": "code",
   "execution_count": 9,
   "metadata": {
    "collapsed": false,
    "deletable": true,
    "editable": true
   },
   "outputs": [
    {
     "name": "stdout",
     "output_type": "stream",
     "text": [
      "EWert found:\n",
      "2.0\n",
      "corresponding EVector:\n",
      "[-0.36761094  0.68018217 -0.06476564 -0.63088812]\n"
     ]
    },
    {
     "data": {
      "text/plain": [
       "(array([ 1.,  4.,  3.,  2.]),\n",
       " array([[ 0.17314452, -0.55622662, -0.65739702,  0.36761094],\n",
       "        [ 0.73709037, -0.43458468, -0.41259759, -0.68018217],\n",
       "        [ 0.21540826,  0.52119875, -0.10626688,  0.06476564],\n",
       "        [ 0.61669931,  0.47968736, -0.62153015,  0.63088812]]))"
      ]
     },
     "execution_count": 9,
     "metadata": {},
     "output_type": "execute_result"
    }
   ],
   "source": [
    "print(\"EWert found:\")\n",
    "print(lamb) # EW\n",
    "print(\"corresponding EVector:\")\n",
    "print(x) #corresponding EV\n",
    "\n",
    "w,v[:,:] #test für EV"
   ]
  },
  {
   "cell_type": "markdown",
   "metadata": {
    "deletable": true,
    "editable": true
   },
   "source": [
    "### Higher Eigenvalues\n",
    "\n",
    "We do vector iteration with vectors orthogonal to the already computed eigenvalue.\n",
    "It is necessary to enforce the orthogonality during iteration.\n"
   ]
  },
  {
   "cell_type": "code",
   "execution_count": 10,
   "metadata": {
    "collapsed": false,
    "deletable": true,
    "editable": true
   },
   "outputs": [
    {
     "data": {
      "image/png": "[encoded data removed]",
      "text/plain": [
       "<matplotlib.figure.Figure at 0x9b51390>"
      ]
     },
     "metadata": {},
     "output_type": "display_data"
    }
   ],
   "source": [
    "W,V = eig(A)\n",
    "Is = np.argsort(W)\n",
    "W[Is],V[:,Is]\n",
    "\n",
    "def proj(v,u) :\n",
    "    from numpy import inner\n",
    "    # project v on u\n",
    "    return inner(u,v)/inner(u,u)*u\n",
    "\n",
    "# choose shift point\n",
    "sig = 0\n",
    "B = inv(A-sig*np.diag(np.ones_like(D)))\n",
    "\n",
    "# start with vector orthogonal to first EV\n",
    "v1 = V[:,Is[0]] # first EV \n",
    "v2 = V[:,Is[1]] # second EV \n",
    "b1 = np.ones_like(D)-proj(v1,np.ones_like(D))-proj(v2,np.ones_like(D))\n",
    "b = b1\n",
    "for i in range(10) :\n",
    "    # re - orthogonalize\n",
    "    b = b - proj(b,v1) - proj(b,v2)\n",
    "    # inverse vector iteration\n",
    "    y=np.dot(B,b)\n",
    "    y_norm=np.linalg.norm(y)\n",
    "    b=y/y_norm\n",
    "    \n",
    "    lamb=sig+1/y_norm\n",
    "    plt.scatter(i, lamb)\n",
    "   \n",
    "    pass"
   ]
  },
  {
   "cell_type": "code",
   "execution_count": 11,
   "metadata": {
    "collapsed": false,
    "deletable": true,
    "editable": true
   },
   "outputs": [
    {
     "name": "stdout",
     "output_type": "stream",
     "text": [
      "3rd EWert found:\n",
      "2.99933112601\n",
      "corresponding EVector:\n",
      "[-0.02818416 -0.56753983 -0.26898526 -0.77765746]\n"
     ]
    },
    {
     "data": {
      "text/plain": [
       "array([ 0.04287236,  1.37552872,  2.53122387,  1.25119828])"
      ]
     },
     "execution_count": 11,
     "metadata": {},
     "output_type": "execute_result"
    }
   ],
   "source": [
    "print(\"3rd EWert found:\")\n",
    "print(lamb) # EW\n",
    "print(\"corresponding EVector:\")\n",
    "print(b) #corresponding EV\n",
    "\n",
    "W[Is[2]],V[:,Is[2]] #test für EV\n",
    "\n",
    "### IMPORTANT: Test for EV FAILED!?!?!\n",
    "b/V[:,Is[2]]"
   ]
  },
  {
   "cell_type": "markdown",
   "metadata": {
    "deletable": true,
    "editable": true
   },
   "source": [
    "## QR-Algorithm"
   ]
  },
  {
   "cell_type": "code",
   "execution_count": 12,
   "metadata": {
    "collapsed": false,
    "deletable": true,
    "editable": true
   },
   "outputs": [
    {
     "data": {
      "image/png": "[encoded data removed]",
      "text/plain": [
       "<matplotlib.figure.Figure at 0x9d0eb38>"
      ]
     },
     "metadata": {},
     "output_type": "display_data"
    }
   ],
   "source": [
    "np.random.seed(1)\n",
    "D = np.array([1, 2, 3 ,4])\n",
    "S = (np.random.rand(len(D),len(D)) - 0.5)*2 # compute a random matrix with entries between -1 and 1\n",
    "Aalt = np.dot(np.dot(S,np.diag(D)),inv(S)) # S*D*S^-1, computes a unitary similar matrix of D having the same EVs\n",
    "\n",
    "wh=20\n",
    "Aalt\n",
    "for i in range(wh) :\n",
    "    Q,R = np.linalg.qr(Aalt)\n",
    "    Aalt = np.dot(R,Q)\n",
    "    \n",
    "    plt.subplot(2, 2, 1)\n",
    "    plt.plot(i, Aalt[0,0], 'o')\n",
    "    plt.title('1.EV')\n",
    "\n",
    "    plt.subplot(2, 2, 2)\n",
    "    plt.plot(i, Aalt[1,1], 'o')\n",
    "    plt.title('2.EV')\n",
    "    \n",
    "    plt.subplot(2, 2, 3)\n",
    "    plt.plot(i, Aalt[2,2], 'o')\n",
    "    plt.title('3.EV')\n",
    "    \n",
    "    plt.subplot(2, 2, 4)\n",
    "    plt.plot(i, Aalt[2,2], 'o')\n",
    "    plt.title('4.EV')\n",
    "    \n",
    "    pass\n",
    "plt.show()\n",
    "\n"
   ]
  },
  {
   "cell_type": "markdown",
   "metadata": {
    "deletable": true,
    "editable": true
   },
   "source": [
    "## subspace-iteration"
   ]
  },
  {
   "cell_type": "code",
   "execution_count": 13,
   "metadata": {
    "collapsed": true,
    "deletable": true,
    "editable": true
   },
   "outputs": [],
   "source": [
    "#code here"
   ]
  },
  {
   "cell_type": "markdown",
   "metadata": {
    "deletable": true,
    "editable": true
   },
   "source": [
    "## FE-Matrices\n",
    "\n",
    "### Load the Matrices\n",
    "\n",
    "Load the system matrices.\n",
    "The matices are real, square and symmetric with dimension $3N \\times 3N$.\n",
    "The DoFs are arranged in the order $x_1, y_1, z_1, x_2, \\dots, z_N$ where $x_i$ denotes the x-displacement of node $i$."
   ]
  },
  {
   "cell_type": "code",
   "execution_count": 14,
   "metadata": {
    "collapsed": false,
    "deletable": true,
    "editable": true
   },
   "outputs": [
    {
     "ename": "FileNotFoundError",
     "evalue": "[Errno 2] No such file or directory: 'Ms.mtx'",
     "output_type": "error",
     "traceback": [
      "\u001b[0;31m---------------------------------------------------------------------------\u001b[0m",
      "\u001b[0;31mFileNotFoundError\u001b[0m                         Traceback (most recent call last)",
      "\u001b[0;32m<ipython-input-14-2258f2447446>\u001b[0m in \u001b[0;36m<module>\u001b[0;34m()\u001b[0m\n\u001b[0;32m----> 1\u001b[0;31m \u001b[0mM\u001b[0m \u001b[1;33m=\u001b[0m \u001b[0mmmread\u001b[0m\u001b[1;33m(\u001b[0m\u001b[1;34m'Ms.mtx'\u001b[0m\u001b[1;33m)\u001b[0m\u001b[1;33m.\u001b[0m\u001b[0mtoarray\u001b[0m\u001b[1;33m(\u001b[0m\u001b[1;33m)\u001b[0m \u001b[1;31m# mass matrix\u001b[0m\u001b[1;33m\u001b[0m\u001b[0m\n\u001b[0m\u001b[1;32m      2\u001b[0m \u001b[0mK\u001b[0m \u001b[1;33m=\u001b[0m \u001b[0mmmread\u001b[0m\u001b[1;33m(\u001b[0m\u001b[1;34m'Ks.mtx'\u001b[0m\u001b[1;33m)\u001b[0m\u001b[1;33m.\u001b[0m\u001b[0mtoarray\u001b[0m\u001b[1;33m(\u001b[0m\u001b[1;33m)\u001b[0m \u001b[1;31m# stiffness matrix\u001b[0m\u001b[1;33m\u001b[0m\u001b[0m\n\u001b[1;32m      3\u001b[0m \u001b[0mX\u001b[0m \u001b[1;33m=\u001b[0m \u001b[0mmmread\u001b[0m\u001b[1;33m(\u001b[0m\u001b[1;34m'X.mtx'\u001b[0m\u001b[1;33m)\u001b[0m \u001b[1;31m# coodinate matrix with columns corresponding to x,y,z position of the nodes\u001b[0m\u001b[1;33m\u001b[0m\u001b[0m\n\u001b[1;32m      4\u001b[0m \u001b[1;33m\u001b[0m\u001b[0m\n\u001b[1;32m      5\u001b[0m \u001b[0mN\u001b[0m \u001b[1;33m=\u001b[0m \u001b[0mX\u001b[0m\u001b[1;33m.\u001b[0m\u001b[0mshape\u001b[0m\u001b[1;33m[\u001b[0m\u001b[1;36m0\u001b[0m\u001b[1;33m]\u001b[0m \u001b[1;31m# number of nodes\u001b[0m\u001b[1;33m\u001b[0m\u001b[0m\n",
      "\u001b[0;32mC:\\ProgramData\\Anaconda3\\lib\\site-packages\\scipy\\io\\mmio.py\u001b[0m in \u001b[0;36mmmread\u001b[0;34m(source)\u001b[0m\n\u001b[1;32m     74\u001b[0m         \u001b[0mMatrix\u001b[0m \u001b[0mMarket\u001b[0m \u001b[0mfile\u001b[0m\u001b[1;33m.\u001b[0m\u001b[1;33m\u001b[0m\u001b[0m\n\u001b[1;32m     75\u001b[0m     \"\"\"\n\u001b[0;32m---> 76\u001b[0;31m     \u001b[1;32mreturn\u001b[0m \u001b[0mMMFile\u001b[0m\u001b[1;33m(\u001b[0m\u001b[1;33m)\u001b[0m\u001b[1;33m.\u001b[0m\u001b[0mread\u001b[0m\u001b[1;33m(\u001b[0m\u001b[0msource\u001b[0m\u001b[1;33m)\u001b[0m\u001b[1;33m\u001b[0m\u001b[0m\n\u001b[0m\u001b[1;32m     77\u001b[0m \u001b[1;33m\u001b[0m\u001b[0m\n\u001b[1;32m     78\u001b[0m \u001b[1;31m# -----------------------------------------------------------------------------\u001b[0m\u001b[1;33m\u001b[0m\u001b[1;33m\u001b[0m\u001b[0m\n",
      "\u001b[0;32mC:\\ProgramData\\Anaconda3\\lib\\site-packages\\scipy\\io\\mmio.py\u001b[0m in \u001b[0;36mread\u001b[0;34m(self, source)\u001b[0m\n\u001b[1;32m    409\u001b[0m             \u001b[0mMatrix\u001b[0m \u001b[0mMarket\u001b[0m \u001b[0mfile\u001b[0m\u001b[1;33m.\u001b[0m\u001b[1;33m\u001b[0m\u001b[0m\n\u001b[1;32m    410\u001b[0m         \"\"\"\n\u001b[0;32m--> 411\u001b[0;31m         \u001b[0mstream\u001b[0m\u001b[1;33m,\u001b[0m \u001b[0mclose_it\u001b[0m \u001b[1;33m=\u001b[0m \u001b[0mself\u001b[0m\u001b[1;33m.\u001b[0m\u001b[0m_open\u001b[0m\u001b[1;33m(\u001b[0m\u001b[0msource\u001b[0m\u001b[1;33m)\u001b[0m\u001b[1;33m\u001b[0m\u001b[0m\n\u001b[0m\u001b[1;32m    412\u001b[0m \u001b[1;33m\u001b[0m\u001b[0m\n\u001b[1;32m    413\u001b[0m         \u001b[1;32mtry\u001b[0m\u001b[1;33m:\u001b[0m\u001b[1;33m\u001b[0m\u001b[0m\n",
      "\u001b[0;32mC:\\ProgramData\\Anaconda3\\lib\\site-packages\\scipy\\io\\mmio.py\u001b[0m in \u001b[0;36m_open\u001b[0;34m(filespec, mode)\u001b[0m\n\u001b[1;32m    310\u001b[0m                     \u001b[0mstream\u001b[0m \u001b[1;33m=\u001b[0m \u001b[0mbz2\u001b[0m\u001b[1;33m.\u001b[0m\u001b[0mBZ2File\u001b[0m\u001b[1;33m(\u001b[0m\u001b[0mfilespec\u001b[0m\u001b[1;33m,\u001b[0m \u001b[1;34m'rb'\u001b[0m\u001b[1;33m)\u001b[0m\u001b[1;33m\u001b[0m\u001b[0m\n\u001b[1;32m    311\u001b[0m                 \u001b[1;32melse\u001b[0m\u001b[1;33m:\u001b[0m\u001b[1;33m\u001b[0m\u001b[0m\n\u001b[0;32m--> 312\u001b[0;31m                     \u001b[0mstream\u001b[0m \u001b[1;33m=\u001b[0m \u001b[0mopen\u001b[0m\u001b[1;33m(\u001b[0m\u001b[0mfilespec\u001b[0m\u001b[1;33m,\u001b[0m \u001b[0mmode\u001b[0m\u001b[1;33m)\u001b[0m\u001b[1;33m\u001b[0m\u001b[0m\n\u001b[0m\u001b[1;32m    313\u001b[0m \u001b[1;33m\u001b[0m\u001b[0m\n\u001b[1;32m    314\u001b[0m             \u001b[1;31m# open for writing\u001b[0m\u001b[1;33m\u001b[0m\u001b[1;33m\u001b[0m\u001b[0m\n",
      "\u001b[0;31mFileNotFoundError\u001b[0m: [Errno 2] No such file or directory: 'Ms.mtx'"
     ]
    }
   ],
   "source": [
    "M = mmread('Ms.mtx').toarray() # mass matrix\n",
    "K = mmread('Ks.mtx').toarray() # stiffness matrix\n",
    "X = mmread('X.mtx') # coodinate matrix with columns corresponding to x,y,z position of the nodes\n",
    "\n",
    "N = X.shape[0] # number of nodes"
   ]
  },
  {
   "cell_type": "markdown",
   "metadata": {
    "deletable": true,
    "editable": true
   },
   "source": [
    "The DoFs in the system matrices are arranged according to a regular grid of linear finite elements.\n",
    "In the following we determine the unique x, y, and z coodinates of the grid."
   ]
  },
  {
   "cell_type": "code",
   "execution_count": null,
   "metadata": {
    "collapsed": true,
    "deletable": true,
    "editable": true
   },
   "outputs": [],
   "source": [
    "nprec = 6 # precision for finding uniqe values\n",
    "# get grid vectors (the unique vectors of the x,y,z coodinate-grid)\n",
    "x = np.unique(np.round(X[:,0],decimals=nprec))\n",
    "y = np.unique(np.round(X[:,1],decimals=nprec))\n",
    "z = np.unique(np.round(X[:,2],decimals=nprec))\n",
    "print('Nx =',len(x))\n",
    "print('Ny =',len(y))\n",
    "print('Nz =',len(z))\n",
    "# grid matrices\n",
    "Xg = np.reshape(X[:,0],[len(y),len(x),len(z)])\n",
    "Yg = np.reshape(X[:,1],[len(y),len(x),len(z)])\n",
    "Zg = np.reshape(X[:,2],[len(y),len(x),len(z)])\n",
    "# or equivalent: Xg,Yg,Zg  = np.meshgrid(x,y,z)"
   ]
  },
  {
   "cell_type": "markdown",
   "metadata": {
    "deletable": true,
    "editable": true
   },
   "source": [
    "### Plot the Geometry\n",
    "\n",
    "One can plot the location of the nodes, select subsets of nodes and plot them ..."
   ]
  },
  {
   "cell_type": "code",
   "execution_count": null,
   "metadata": {
    "collapsed": true,
    "deletable": true,
    "editable": true
   },
   "outputs": [],
   "source": [
    "# plot the geometric points \n",
    "from mpl_toolkits.mplot3d import Axes3D\n",
    "fig,ax = plt.subplots(subplot_kw={'projection':'3d'})\n",
    "\n",
    "#sm = 0.1/mode.max()\n",
    "ax.scatter(X[:,0],X[:,1],X[:,2],s=10)\n",
    "ax.set_xlabel('x')\n",
    "ax.set_ylabel('y')\n",
    "ax.set_zlabel('z')\n",
    "\n",
    "# select nodes on the west-side, i.e. at x=x_min\n",
    "tol = 1e-12\n",
    "x_min = X[:,0].min()\n",
    "Nw = np.argwhere(np.abs(X[:,0]-x_min)<tol) # Node indices of West-Edge nodes\n",
    "\n",
    "# select node on North-East-Top corner\n",
    "Nnet = np.argwhere(np.all(np.abs(X-X.max(axis=0))<tol,axis=1))[0]\n",
    "\n",
    "ax.scatter(X[Nw,0],X[Nw,1],X[Nw,2],s=30,marker='x',label='West')\n",
    "ax.scatter(X[Nnet,0],X[Nnet,1],X[Nnet,2],s=30,marker='x',label='North-East-Top')\n",
    "ax.legend()"
   ]
  },
  {
   "cell_type": "markdown",
   "metadata": {
    "deletable": true,
    "editable": true
   },
   "source": [
    "### Solve a Static Problem\n",
    "\n",
    "Solve a static problem applying nodal forces to the North-East-Top corner and fixing all DoF at the West-Edge of the plate.\n",
    "\n",
    "We solve the system\n",
    "$$ K u = f $$\n",
    "for the displacements $u$.\n",
    "The system needs to be constrained, thus, we select nodes which will be removed from the system."
   ]
  },
  {
   "cell_type": "code",
   "execution_count": null,
   "metadata": {
    "collapsed": true,
    "deletable": true,
    "editable": true
   },
   "outputs": [],
   "source": [
    "\n",
    "# because the dofs are ordered as x_1, y_1, z_1, x_2, ..., z_N in the global system, the x, y, and z dofs for node n are\n",
    "# located at position 3n, 3n+1, 3n+2.\n",
    "\n",
    "# indices of x, y, and z DoFs in the global system\n",
    "# can be used to get DoF-index in global system, e.g. for y of node n by Iy[n]\n",
    "Ix = np.arange(N)*3 # index of x-dofs\n",
    "Iy = np.arange(N)*3+1\n",
    "Iz = np.arange(N)*3+2\n",
    "\n",
    "# select which indices in the global system must be constrained\n",
    "If = np.array([Ix[Nw],Iy[Nw],Iz[Nw]]).ravel() # dof indices of fix constraint\n",
    "Ic = np.array([(i in If) for i in np.arange(3*N)]) # boolean array of constraind dofs\n",
    "\n",
    "# construct forcing vector\n",
    "f = np.zeros(3*N)\n",
    "f[Iz[Nnet]] = -1.0\n",
    "\n",
    "# compute the reduced system\n",
    "Kc = K[np.ix_(~Ic,~Ic)]\n",
    "fc = f[~Ic]\n",
    "\n",
    "# compute solution\n",
    "u = np.zeros(3*N) # initialize displacement vector\n",
    "\n",
    "# solve the linear system Kc*uc=fc\n",
    "uc = np.linalg.solve(Kc,fc)\n",
    "\n",
    "# sort solution in large vector\n",
    "u[~Ic] = uc"
   ]
  },
  {
   "cell_type": "code",
   "execution_count": null,
   "metadata": {
    "collapsed": true,
    "deletable": true,
    "editable": true
   },
   "outputs": [],
   "source": [
    "# plot in 3D\n",
    "fig,ax = plt.subplots(subplot_kw={'projection':'3d'})\n",
    "\n",
    "#sm = 0.1/mode.max()\n",
    "ax.scatter(X[:,0],X[:,1],X[:,2],s=5,label='undeformed') # undeformed\n",
    "\n",
    "# format U like X\n",
    "U = np.array([u[Ix],u[Iy],u[Iz]]).T\n",
    "\n",
    "# scale factor for plotting\n",
    "s = 0.5/np.max(np.sqrt(np.sum(U**2,axis=0)))\n",
    "Xu = X + s*U # defomed configuration (displacement scaled by s)\n",
    "\n",
    "ax.scatter(Xu[:,0],Xu[:,1],Xu[:,2],c='g',label='deformed')\n",
    "ax.scatter(X[Nw,0],X[Nw,1],X[Nw,2],s=50,marker='x',label='constraint')\n",
    "ax.quiver(X[:,0],X[:,1],X[:,2],f[Ix],f[Iy],f[Iz],color='r',length=0.1,label='load')\n",
    "\n",
    "ax.set_xlabel('x')\n",
    "ax.set_ylabel('y')\n",
    "ax.set_zlabel('z')\n",
    "ax.legend()"
   ]
  },
  {
   "cell_type": "code",
   "execution_count": null,
   "metadata": {
    "collapsed": true,
    "deletable": true,
    "editable": true
   },
   "outputs": [],
   "source": [
    "# plot in 2D (z-displacement of the top-nodes)\n",
    "\n",
    "# select nodes\n",
    "Nt = np.argwhere(np.abs(X[:,2]-X[:,2].max())<tol)\n",
    "# extract z-displacements\n",
    "uz = np.reshape(u[Iz[Nt]],[len(y),len(x)])\n",
    "\n",
    "lim = np.max(np.abs(uz)) # limit to center color legend around 0\n",
    "\n",
    "fig,ax = plt.subplots()\n",
    "cax = ax.contourf(x,y,uz,cmap=plt.get_cmap('RdBu_r'),vmin=-lim,vmax=lim)\n",
    "fig.colorbar(cax,extend='both')#,orientation='horizontal')\n",
    "ax.set_aspect('equal')\n",
    "ax.set_xlabel('x')\n",
    "ax.set_ylabel('y')"
   ]
  },
  {
   "cell_type": "markdown",
   "metadata": {
    "deletable": true,
    "editable": true
   },
   "source": [
    "### Compute eigenvalues and modeshapes\n",
    "\n",
    "#### All free\n",
    "Use the unconstrained system"
   ]
  },
  {
   "cell_type": "code",
   "execution_count": null,
   "metadata": {
    "collapsed": true,
    "deletable": true,
    "editable": true
   },
   "outputs": [],
   "source": [
    "# only compute a subset of modes\n",
    "from scipy.linalg import eigh\n",
    "k = 15\n",
    "W,V = eigh(K,M,eigvals=(0,k))\n"
   ]
  },
  {
   "cell_type": "markdown",
   "metadata": {
    "deletable": true,
    "editable": true
   },
   "source": [
    "#### Clamped edges\n",
    "#### Short side clamped"
   ]
  },
  {
   "cell_type": "code",
   "execution_count": null,
   "metadata": {
    "collapsed": true,
    "deletable": true,
    "editable": true
   },
   "outputs": [],
   "source": []
  },
  {
   "cell_type": "code",
   "execution_count": null,
   "metadata": {
    "collapsed": true,
    "deletable": true,
    "editable": true
   },
   "outputs": [],
   "source": []
  }
 ],
 "metadata": {
  "git": {
   "suppress_outputs": true
  },
  "kernelspec": {
   "display_name": "Python 3",
   "language": "python",
   "name": "python3"
  },
  "language_info": {
   "codemirror_mode": {
    "name": "ipython",
    "version": 3
   },
   "file_extension": ".py",
   "mimetype": "text/x-python",
   "name": "python",
   "nbconvert_exporter": "python",
   "pygments_lexer": "ipython3",
   "version": "3.6.0"
  }
 },
 "nbformat": 4,
 "nbformat_minor": 2
}
