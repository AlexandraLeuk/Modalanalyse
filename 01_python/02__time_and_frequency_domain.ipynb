{
 "cells": [
  {
   "cell_type": "markdown",
   "metadata": {},
   "source": [
    "**Exercise 2: **\n",
    "# Time and Frequency Domain\n",
    "\n",
    "1. Compute the transient response of the system for a vertical force on the corner of the plate (choosing a forcing function which will show interesting dynamics)\n",
    "\n",
    "2. Compute the steady state response for a vertical force at the corner in the frequency range of 2-40Hz\n",
    "\n",
    "3. Visualize the response at characteristic frequencies\n",
    "\n",
    "4. Plot the receptances, i.e. the transfer functions for the vertical excitation at the corner with respect to the displacement of the corner and the center of the plate\n",
    "\n",
    "5. Plot the average vertical response of all points of the plate surface (one layer, e.g. top or bottom, is sufficient)\n",
    "\n",
    "6. Estimate the repentance using the time domain data\n",
    "\n",
    "7. Compare the receptance computed by the inversion of the dynamic stiffness matrix with the one computed from the model parameters (using the first few modes)\n",
    "\n",
    "---"
   ]
  },
  {
   "cell_type": "code",
   "execution_count": null,
   "metadata": {
    "collapsed": false
   },
   "outputs": [],
   "source": [
    "import femtools\n",
    "import importlib\n",
    "importlib.reload(femtools)\n",
    "import numpy as np\n",
    "import matplotlib.pyplot as plt\n",
    "import pandas as pd\n",
    "from scipy.signal import find_peaks_cwt\n",
    "from scipy import spatial\n",
    "%pylab inline\n",
    "pylab.rcParams['figure.figsize'] = (10, 10)\n"
   ]
  },
  {
   "cell_type": "markdown",
   "metadata": {},
   "source": [
    "## Build FEM System"
   ]
  },
  {
   "cell_type": "code",
   "execution_count": null,
   "metadata": {
    "collapsed": true
   },
   "outputs": [],
   "source": [
    "beam = femtools.FEMSys()"
   ]
  },
  {
   "cell_type": "code",
   "execution_count": null,
   "metadata": {
    "collapsed": true
   },
   "outputs": [],
   "source": [
    "B = femtools.IdxMasks(beam)\n",
    "\n",
    "# select nodes on the west-side, i.e. at x=x_min\n",
    "tol = 1e-12\n",
    "x_min = beam.X[:,0].min()\n",
    "Nw = np.argwhere(np.abs(beam.X[:,0]-x_min)<tol) # Node indices of West-Edge nodes\n",
    "# select node on North-East-Top corner\n",
    "Nnet = np.argwhere(np.all(np.abs(beam.X-beam.X.max(axis=0))<tol,axis=1))[0]\n",
    "# select the data to plot (z-displacement of top nodes)\n",
    "Nt = np.argwhere(np.abs(beam.X[:, 2]-beam.X[:, 2].max())<tol)\n",
    "\n",
    "# indices of x, y, and z DoFs in the global system\n",
    "# can be used to get DoF-index in global system, e.g. for y of node n by Iy[n]\n",
    "Ix = np.arange(beam.nN)*3 # index of x-dofs\n",
    "Iy = np.arange(beam.nN)*3+1\n",
    "Iz = np.arange(beam.nN)*3+2\n",
    "\n",
    "# select which indices in the global system must be constrained\n",
    "If = np.array([Ix[Nw],Iy[Nw],Iz[Nw]]).ravel() # dof indices of fix constraint\n",
    "Ic = np.array([(i in If) for i in np.arange(beam.nDof)]) # boolean array of constraind dofs\n",
    "\n",
    "pt = [0, 0, 0]\n",
    "distance, center_node = spatial.KDTree(beam.X).query(pt)\n",
    "\n",
    "\n",
    "B.all = np.ones(beam.nDof, dtype=bool)\n",
    "B.x = Ix\n",
    "B.y = Iy\n",
    "B.z = Iz\n",
    "B.west = np.concatenate((Ix[Nw], Iy[Nw], Iz[Nw]))\n",
    "B.net = np.concatenate((Ix[Nnet], Iy[Nnet], Iz[Nnet]))\n",
    "B.top_z = Iz[Nt]\n",
    "B.center_z = Iz[center_node]"
   ]
  },
  {
   "cell_type": "markdown",
   "metadata": {},
   "source": [
    "## Harmonic Analysis"
   ]
  },
  {
   "cell_type": "code",
   "execution_count": null,
   "metadata": {
    "collapsed": false
   },
   "outputs": [],
   "source": [
    "beam.set_boundary(fix=B.west)\n",
    "res_harmonic = beam.sim_freq(mode_count=15)\n",
    "\n",
    "res_harmonic.animate(B.top_z, idx=0)"
   ]
  },
  {
   "cell_type": "markdown",
   "metadata": {},
   "source": [
    "## 1. Transient Response\n",
    "Compute the transient response of the system for a vertical force on the corner of the plate (choosing a forcing function which will show interesting dynamics)"
   ]
  },
  {
   "cell_type": "code",
   "execution_count": null,
   "metadata": {
    "collapsed": true
   },
   "outputs": [],
   "source": [
    "# Time stepping\n",
    "dt = 0.003\n",
    "T = 2\n",
    "t = np.arange(dt,T,dt)\n",
    "\n",
    "# Fix west edge\n",
    "beam.set_boundary(fix=B.west)\n",
    "\n",
    "# Force\n",
    "Ts = 0.05\n",
    "k = 4\n",
    "impulse = np.exp(-(t/Ts)**k)\n",
    "f = np.zeros((beam.nDof, len(t)))\n",
    "f[B.z & B.net,:] = impulse\n",
    "\n",
    "res_transient = beam.sim_time(t, force=f)"
   ]
  },
  {
   "cell_type": "markdown",
   "metadata": {},
   "source": [
    "### North-East-Top Corner Displacement in z-Direction"
   ]
  },
  {
   "cell_type": "code",
   "execution_count": null,
   "metadata": {
    "collapsed": false
   },
   "outputs": [],
   "source": [
    "idx_array = np.argwhere((B.net & B.z)==True)\n",
    "idx = idx_array[0, 0]\n",
    "fig, ax = res_transient.plot_dof(dof=idx)"
   ]
  },
  {
   "cell_type": "markdown",
   "metadata": {},
   "source": [
    "### FFT Analysis"
   ]
  },
  {
   "cell_type": "code",
   "execution_count": null,
   "metadata": {
    "collapsed": false
   },
   "outputs": [],
   "source": [
    "signal = res_transient.x[B.z & B.net,:]\n",
    "freq, amp = femtools.fft(signal, res_transient.t)\n",
    "\n",
    "fig,ax =plt.subplots()\n",
    "ax.semilogy(freq, amp)\n",
    "ax.set_xlabel('Freq in Hz')\n",
    "ax.set_ylabel('displacement in m')\n",
    "ax.set_xlim(0,60)\n",
    "\n",
    "for xpos in res_harmonic.w0[:4]:\n",
    "    plt.axvline(x=xpos, color='r', ls=':')\n",
    "\n",
    "df = pd.DataFrame()\n",
    "df['Natural Frequency w0'] = res_harmonic.w0[:4]\n",
    "df"
   ]
  },
  {
   "cell_type": "markdown",
   "metadata": {},
   "source": [
    "### 2. Steady State \n",
    "Compute the steady state response for a vertical force at the corner in the frequency range of 2-40Hz"
   ]
  },
  {
   "cell_type": "code",
   "execution_count": null,
   "metadata": {
    "collapsed": true
   },
   "outputs": [],
   "source": [
    "w_list = np.arange(2, 41)\n",
    "x_center = np.zeros_like(w_list)\n",
    "\n",
    "f = np.zeros(beam.nDof) \n",
    "f[B.net & B.z] = 1 # put force on North-East-Top corner\n",
    "\n",
    "res_ss = beam.sim_steady_state(w_list, f)"
   ]
  },
  {
   "cell_type": "markdown",
   "metadata": {},
   "source": [
    "### 3. Visualize the response at characteristic frequencies"
   ]
  },
  {
   "cell_type": "code",
   "execution_count": null,
   "metadata": {
    "collapsed": false
   },
   "outputs": [],
   "source": [
    "w_to_show = 5\n",
    "\n",
    "w_dict = {i: x for x, i in enumerate(w_list)}\n",
    "res_ss.animate(B.top_z, w_dict[w_to_show])"
   ]
  },
  {
   "cell_type": "markdown",
   "metadata": {},
   "source": [
    "### 4. Plot the receptances\n",
    "i.e. the transfer functions for the vertical excitation at the corner with respect to the displacement of the corner and the center of the plate"
   ]
  },
  {
   "cell_type": "code",
   "execution_count": null,
   "metadata": {
    "collapsed": false
   },
   "outputs": [],
   "source": [
    "tf_center = np.abs(res_ss.x[B.center_z, :].T) / 1\n",
    "tf_net = np.abs(res_ss.x[B.net & B.z, :].T) / 1\n",
    "\n",
    "fig,ax = plt.subplots()\n",
    "ax.semilogy(w_list, tf_center, label='Center point')\n",
    "ax.semilogy(w_list, tf_net, label='Corner')\n",
    "ax.set_xlabel('Frequency w in Hz')\n",
    "ax.set_ylabel('Receptance')\n",
    "ax.legend()\n",
    "for xc in res_harmonic.w0[:4]:\n",
    "    plt.axvline(x=xc, color='r', ls=':')"
   ]
  },
  {
   "cell_type": "markdown",
   "metadata": {},
   "source": [
    "### 5. Average Vertical Response\n",
    "Plot the average vertical response of all points of the plate surface (one layer, e.g. top or bottom, is sufficient)"
   ]
  },
  {
   "cell_type": "code",
   "execution_count": null,
   "metadata": {
    "collapsed": false
   },
   "outputs": [],
   "source": [
    "avg_vertical = np.mean(np.abs(res_ss.x[B.top_z, :]), axis=0)\n",
    "\n",
    "fig,ax = plt.subplots()\n",
    "ax.semilogy(w_list, avg_vertical)\n",
    "ax.set_xlabel('Frequency w in Hz')\n",
    "ax.set_ylabel('Average vertical u in m')\n",
    "for xc in res_harmonic.w0[:4]:\n",
    "    plt.axvline(x=xc, color='r', ls=':')"
   ]
  },
  {
   "cell_type": "markdown",
   "metadata": {},
   "source": [
    "### 6. Estimate the Receptence\n",
    "Estimate the repentance using the time domain data"
   ]
  },
  {
   "cell_type": "code",
   "execution_count": null,
   "metadata": {
    "collapsed": true
   },
   "outputs": [],
   "source": [
    "from scipy import sparse\n",
    "\n",
    "w_to_estimate = [5, 6, 25, 34, 35]\n",
    "estimate = np.zeros(len(w_to_estimate))\n",
    "idx = np.ix_(B.z & ~beam.Ic, B.net & B.z)\n",
    "\n",
    "for i, w in enumerate(w_to_estimate):\n",
    "    H = np.zeros((beam.nDof, beam.nDof), dtype=complex)\n",
    "    \n",
    "    Zw = beam.Kc + 1j*2*np.pi*w*beam.Cc - (2*np.pi*w)**2 * beam.Mc\n",
    "    Hw = sparse.linalg.inv(Zw)\n",
    "    H[np.ix_(~beam.Ic,~beam.Ic)] = Hw.toarray()\n",
    "    \n",
    "    estimate[i] = np.mean(np.abs(H[idx]))"
   ]
  },
  {
   "cell_type": "markdown",
   "metadata": {},
   "source": [
    "### 7. Compare\n",
    "Compare the receptance computed by the inversion of the dynamic stiffness matrix with the one computed from the model parameters (using the first few modes)"
   ]
  },
  {
   "cell_type": "code",
   "execution_count": null,
   "metadata": {
    "collapsed": false
   },
   "outputs": [],
   "source": [
    "fig,ax = plt.subplots()\n",
    "ax.semilogy(w_list, avg_vertical, label='Simulation')\n",
    "ax.scatter(w_to_estimate, estimate, label='Estimation')\n",
    "\n",
    "ax.set_xlabel('Frequency w in Hz')\n",
    "ax.set_ylabel('Receptance')\n",
    "ax.legend()"
   ]
  }
 ],
 "metadata": {
  "kernelspec": {
   "display_name": "Python 3",
   "language": "python",
   "name": "python3"
  },
  "language_info": {
   "codemirror_mode": {
    "name": "ipython",
    "version": 3
   },
   "file_extension": ".py",
   "mimetype": "text/x-python",
   "name": "python",
   "nbconvert_exporter": "python",
   "pygments_lexer": "ipython3",
   "version": "3.6.0"
  }
 },
 "nbformat": 4,
 "nbformat_minor": 2
}
